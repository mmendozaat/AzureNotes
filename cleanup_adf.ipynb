{
 "cells": [
  {
   "cell_type": "code",
   "execution_count": 1,
   "metadata": {},
   "outputs": [],
   "source": [
    "import networkx as nx\n",
    "import os\n",
    "import json"
   ]
  },
  {
   "cell_type": "code",
   "execution_count": 6,
   "metadata": {},
   "outputs": [],
   "source": [
    "dirs = [\n",
    "    \"dataflow\",\n",
    "    \"dataset\",\n",
    "    \"integrationRuntime\",\n",
    "    \"linkedService\",\n",
    "    \"pipeline\"\n",
    "]"
   ]
  },
  {
   "cell_type": "code",
   "execution_count": 9,
   "metadata": {},
   "outputs": [],
   "source": [
    "keep_pipelines = [\n",
    "    \"pl_history_load_Legacy_FactExternalMPLUsageLog\",\n",
    "    \"pl_history_load_Legacy_FactMPLInternalProductUsageLog\",\n",
    "    \"pl_history_load_Legacy_FactPCMPLUsageLog\",\n",
    "    \"pl_synapse_load_fact_es_usage\",\n",
    "    \"pl_synapse_load_fact_pc_mpl\",\n",
    "    \"pl_synapse_load_fact_usage_log\"\n",
    "]"
   ]
  },
  {
   "cell_type": "code",
   "execution_count": 10,
   "metadata": {},
   "outputs": [],
   "source": [
    "def getReferenced(j, referenced):\n",
    "    key = \"referenceName\"\n",
    "    if isinstance(j, list):\n",
    "        for i in j:\n",
    "            getReferenced(i, referenced)\n",
    "    elif isinstance(j, dict):\n",
    "        if key in j.keys():\n",
    "            referenced.append(j[key])\n",
    "        else:\n",
    "            for i in j.values():\n",
    "                getReferenced(i, referenced)"
   ]
  },
  {
   "cell_type": "code",
   "execution_count": 11,
   "metadata": {},
   "outputs": [],
   "source": [
    "def getJsonContent(filename):\n",
    "    with open(filename, \"r\") as f:\n",
    "        contents = f.read()\n",
    "    contentstring = \"\".join(contents)\n",
    "    contentjson = json.loads(contentstring)\n",
    "    return contentjson"
   ]
  },
  {
   "cell_type": "code",
   "execution_count": 12,
   "metadata": {},
   "outputs": [
    {
     "name": "stdout",
     "output_type": "stream",
     "text": [
      "CIADatalake/dataflow/df_copy_curated_final_lookups.json\n",
      "CIADatalake/dataflow/df_csv_to_parquet.json\n",
      "CIADatalake/dataflow/df_final_csv_parquet.json\n",
      "CIADatalake/dataflow/df_history_load_transform.json\n",
      "CIADatalake/dataflow/df_history_load_transform_businessarea.json\n",
      "CIADatalake/dataflow/df_history_load_transform_date.json\n",
      "CIADatalake/dataflow/df_history_load_transform_dimdepartmenthierarchy.json\n",
      "CIADatalake/dataflow/df_history_load_transform_individual.json\n",
      "CIADatalake/dataflow/df_history_load_transform_location.json\n",
      "CIADatalake/dataflow/df_history_load_transform_lookup_individual.json\n",
      "CIADatalake/dataflow/df_history_load_transform_lookup_masterproduct.json\n",
      "CIADatalake/dataflow/df_history_load_transform_lookup_user.json\n",
      "CIADatalake/dataflow/df_history_load_transform_masterproduct.json\n",
      "CIADatalake/dataflow/df_history_load_transform_user.json\n",
      "CIADatalake/dataflow/df_history_lookups_csv_parquet.json\n",
      "CIADatalake/dataflow/df_processing_final_data_copy.json\n",
      "CIADatalake/dataflow/df_scd1_departmenthierarchy.json\n",
      "CIADatalake/dataflow/df_scd1_individual.json\n",
      "CIADatalake/dataflow/df_scd1_individual_lookups.json\n",
      "CIADatalake/dataflow/df_scd1_location.json\n",
      "CIADatalake/dataflow/df_scd1_location_lookups.json\n",
      "CIADatalake/dataflow/df_scd1_masterproduct.json\n",
      "CIADatalake/dataflow/df_scd1_user.json\n",
      "CIADatalake/dataflow/df_scd2_final_department_hierarchy.json\n",
      "CIADatalake/dataflow/df_scd2_final_user.json\n",
      "CIADatalake/dataflow/df_scd2_individual.json\n",
      "CIADatalake/dataflow/df_scd2_location.json\n",
      "CIADatalake/dataflow/df_scd2_masterproduct.json\n",
      "CIADatalake/dataflow/df_transform_curated_departmenthierarchy.json\n",
      "CIADatalake/dataflow/df_transform_curated_user.json\n",
      "CIADatalake/dataflow/df_transform_individual.json\n",
      "CIADatalake/dataflow/df_transform_location.json\n",
      "CIADatalake/dataflow/df_transform_masterproduct.json\n",
      "CIADatalake/dataset/ds_ciadatalake_delimited_file.json\n",
      "CIADatalake/dataset/ds_ciadatalake_delimited_file_directory.json\n",
      "CIADatalake/dataset/ds_ciadatalake_parquet_directory.json\n",
      "CIADatalake/dataset/ds_ciadatalake_parquet_file.json\n",
      "CIADatalake/dataset/ds_ciadw_FactExternalMPLUsageLog.json\n",
      "CIADatalake/dataset/ds_ciadw_FactInternalMPLUsageLog.json\n",
      "CIADatalake/dataset/ds_ciadw_FactPCMPLUsageLog.json\n",
      "CIADatalake/dataset/ds_ciadw_sql_query.json\n",
      "CIADatalake/dataset/ds_factload_parquet.json\n",
      "CIADatalake/dataset/ds_issql_sql_query.json\n",
      "CIADatalake/dataset/ds_lookup_auditlog.json\n",
      "CIADatalake/dataset/ds_lookup_lastcompletetmstp.json\n",
      "CIADatalake/dataset/ds_lookup_prctmstp.json\n",
      "CIADatalake/dataset/ds_parquet_directory.json\n",
      "CIADatalake/dataset/ds_synapse_load_fact_es_usage.json\n",
      "CIADatalake/dataset/ds_synapse_load_fact_pc_mpl.json\n",
      "CIADatalake/dataset/ds_synapse_load_fact_usage_log.json\n",
      "CIADatalake/integrationRuntime/ciadatalake-dev-eastus-ir-01.json\n",
      "CIADatalake/integrationRuntime/ciadatalake-eastus-autoresolve-ir-01.json\n",
      "CIADatalake/linkedService/AzureDataLakeStorage_AutoResolve.json\n",
      "CIADatalake/linkedService/AzureDataLakeStorage_SelfHosted.json\n",
      "CIADatalake/linkedService/AzureKeyVault_01.json\n",
      "CIADatalake/linkedService/CIADatalake_Synapse_Analytics.json\n",
      "CIADatalake/linkedService/ciadw_sql_ciadatalake_db.json\n",
      "CIADatalake/linkedService/ciadw_sql_db.json\n",
      "CIADatalake/linkedService/issql_sql_db.json\n",
      "CIADatalake/pipeline/master_dim_department_hierarchy.json\n",
      "CIADatalake/pipeline/master_dim_individual.json\n",
      "CIADatalake/pipeline/master_dim_location.json\n",
      "CIADatalake/pipeline/master_dim_masterproduct.json\n",
      "CIADatalake/pipeline/master_dim_user.json\n",
      "CIADatalake/pipeline/master_history_individual.json\n",
      "CIADatalake/pipeline/master_history_location.json\n",
      "CIADatalake/pipeline/mstr_mstr_dim_fact_load.json\n",
      "CIADatalake/pipeline/mstr_mstr_history_load.json\n",
      "CIADatalake/pipeline/pl_copy_curated_finish_depthierarchy_lookups.json\n",
      "CIADatalake/pipeline/pl_copy_curated_finish_user_lookups.json\n",
      "CIADatalake/pipeline/pl_copy_landing_finish_individual_lookups.json\n",
      "CIADatalake/pipeline/pl_copy_landing_finish_location_lookups.json\n",
      "CIADatalake/pipeline/pl_extract_ciadw_landing_location.json\n",
      "CIADatalake/pipeline/pl_extract_ciadw_landing_location_lookups.json\n",
      "CIADatalake/pipeline/pl_extract_ciadw_landing_masterproduct.json\n",
      "CIADatalake/pipeline/pl_extract_issql_landing_alert_test.json\n",
      "CIADatalake/pipeline/pl_extract_issql_landing_departmenthierarchy.json\n",
      "CIADatalake/pipeline/pl_extract_issql_landing_individual.json\n",
      "CIADatalake/pipeline/pl_extract_issql_landing_individual_lookups.json\n",
      "CIADatalake/pipeline/pl_extract_issql_landing_user.json\n",
      "CIADatalake/pipeline/pl_history_load_businessarea.json\n",
      "CIADatalake/pipeline/pl_history_load_date.json\n",
      "CIADatalake/pipeline/pl_history_load_dimdepartmenthierarchy.json\n",
      "CIADatalake/pipeline/pl_history_load_individual.json\n",
      "CIADatalake/pipeline/pl_history_load_Legacy_FactExternalMPLUsageLog.json\n",
      "CIADatalake/pipeline/pl_history_load_Legacy_FactMPLInternalProductUsageLog.json\n",
      "CIADatalake/pipeline/pl_history_load_Legacy_FactPCMPLUsageLog.json\n",
      "CIADatalake/pipeline/pl_history_load_location.json\n",
      "CIADatalake/pipeline/pl_history_load_masterproduct.json\n",
      "CIADatalake/pipeline/pl_history_load_user.json\n",
      "CIADatalake/pipeline/pl_landing_finish_individual_lookups.json\n",
      "CIADatalake/pipeline/pl_landing_finish_location_lookups.json\n",
      "CIADatalake/pipeline/pl_scd_curated_finish_departmenthierarchy.json\n",
      "CIADatalake/pipeline/pl_scd_curated_finish_individual.json\n",
      "CIADatalake/pipeline/pl_scd_curated_finish_location.json\n",
      "CIADatalake/pipeline/pl_scd_curated_finish_masterproduct.json\n",
      "CIADatalake/pipeline/pl_scd_curated_finish_user.json\n",
      "CIADatalake/pipeline/pl_synapse_load_fact_es_usage.json\n",
      "CIADatalake/pipeline/pl_synapse_load_fact_pc_mpl.json\n",
      "CIADatalake/pipeline/pl_synapse_load_fact_usage_log.json\n",
      "CIADatalake/pipeline/pl_tranform_landing_curated_departmenthierarchy.json\n",
      "CIADatalake/pipeline/pl_tranform_landing_curated_individual.json\n",
      "CIADatalake/pipeline/pl_tranform_landing_curated_location.json\n",
      "CIADatalake/pipeline/pl_tranform_landing_curated_masterproduct.json\n",
      "CIADatalake/pipeline/pl_tranform_landing_curated_user.json\n",
      "CIADatalake/pipeline/template_master_dim_tablename.json\n",
      "CIADatalake/pipeline/template_mstr_mstr_dim_fact_load_alltables.json\n",
      "CIADatalake/pipeline/template_pl_extract_ciadw_landing_tablename.json\n",
      "CIADatalake/pipeline/template_pl_history_load_tablename.json\n",
      "CIADatalake/pipeline/template_pl_scd_curated_finish_tablename.json\n",
      "CIADatalake/pipeline/template_pl_tranform_landing_curated_tablename.json\n"
     ]
    }
   ],
   "source": [
    "G = nx.DiGraph()\n",
    "for d in dirs:\n",
    "    with os.scandir(os.path.join('CIADatalake', d)) as de:\n",
    "        for entry in de:\n",
    "            if entry.name.endswith('.json') and entry.is_file():\n",
    "                filepath = entry.path\n",
    "                print(filepath)\n",
    "                \n",
    "                # read file as json\n",
    "                j = getJsonContent(filepath)\n",
    "                name = j[\"name\"]\n",
    "                \n",
    "                # add all objects as nodes\n",
    "                #G.add_node(name)\n",
    "                \n",
    "                # get list of referenced names\n",
    "                referenced = []\n",
    "                getReferenced(j, referenced)\n",
    "                \n",
    "                # construct list of edges\n",
    "                num_referenced = len(referenced)\n",
    "                uvedges = list(zip([name] * num_referenced, referenced))\n",
    "                \n",
    "                # add to graph\n",
    "                G.add_edges_from(uvedges)"
   ]
  },
  {
   "cell_type": "code",
   "execution_count": 13,
   "metadata": {},
   "outputs": [
    {
     "name": "stdout",
     "output_type": "stream",
     "text": [
      "pl_history_load_Legacy_FactExternalMPLUsageLog\n",
      "pl_history_load_Legacy_FactMPLInternalProductUsageLog\n",
      "pl_history_load_Legacy_FactPCMPLUsageLog\n",
      "pl_synapse_load_fact_es_usage\n",
      "pl_synapse_load_fact_pc_mpl\n",
      "pl_synapse_load_fact_usage_log\n"
     ]
    }
   ],
   "source": [
    "from networkx.algorithms.traversal import breadth_first_search as bfs\n",
    "\n",
    "keep = []\n",
    "for p in keep_pipelines:\n",
    "    print(p)\n",
    "    for s in bfs.bfs_successors(G, p):\n",
    "        keep.extend(nx.utils.flatten(s))"
   ]
  },
  {
   "cell_type": "code",
   "execution_count": 14,
   "metadata": {},
   "outputs": [],
   "source": [
    "delete = set(G)-set(keep)"
   ]
  },
  {
   "cell_type": "code",
   "execution_count": 15,
   "metadata": {},
   "outputs": [
    {
     "data": {
      "text/plain": [
       "set()"
      ]
     },
     "execution_count": 15,
     "metadata": {},
     "output_type": "execute_result"
    }
   ],
   "source": [
    "delete.intersection(set(keep))"
   ]
  },
  {
   "cell_type": "code",
   "execution_count": 17,
   "metadata": {},
   "outputs": [
    {
     "data": {
      "text/plain": [
       "{'AzureDataLakeStorage_AutoResolve',\n",
       " 'AzureKeyVault_01',\n",
       " 'CIADatalake_Synapse_Analytics',\n",
       " 'ciadatalake-dev-eastus-ir-01',\n",
       " 'ciadatalake-eastus-autoresolve-ir-01',\n",
       " 'ciadw_sql_ciadatalake_db',\n",
       " 'ciadw_sql_db',\n",
       " 'ds_ciadatalake_parquet_file',\n",
       " 'ds_ciadw_FactExternalMPLUsageLog',\n",
       " 'ds_ciadw_FactInternalMPLUsageLog',\n",
       " 'ds_ciadw_FactPCMPLUsageLog',\n",
       " 'ds_ciadw_sql_query',\n",
       " 'ds_factload_parquet',\n",
       " 'ds_synapse_load_fact_es_usage',\n",
       " 'ds_synapse_load_fact_pc_mpl',\n",
       " 'ds_synapse_load_fact_usage_log',\n",
       " 'pl_history_load_Legacy_FactExternalMPLUsageLog',\n",
       " 'pl_history_load_Legacy_FactMPLInternalProductUsageLog',\n",
       " 'pl_history_load_Legacy_FactPCMPLUsageLog',\n",
       " 'pl_synapse_load_fact_es_usage',\n",
       " 'pl_synapse_load_fact_pc_mpl',\n",
       " 'pl_synapse_load_fact_usage_log'}"
      ]
     },
     "execution_count": 17,
     "metadata": {},
     "output_type": "execute_result"
    }
   ],
   "source": [
    "set(keep)"
   ]
  },
  {
   "cell_type": "code",
   "execution_count": 45,
   "metadata": {
    "scrolled": true
   },
   "outputs": [
    {
     "name": "stdout",
     "output_type": "stream",
     "text": [
      "['rm pipeline/pl_tranform_landing_curated_location',\n",
      " 'rm pipeline/pl_scd_curated_finish_location',\n",
      " 'rm pipeline/pl_tranform_landing_curated_user',\n",
      " 'rm pipeline/pl_landing_finish_location_lookups',\n",
      " 'rm pipeline/pl_tranform_landing_curated_individual',\n",
      " 'rm pipeline/pl_scd_curated_finish_individual',\n",
      " 'rm pipeline/pl_scd_curated_finish_masterproduct',\n",
      " 'rm pipeline/pl_copy_curated_finish_depthierarchy_lookups',\n",
      " 'rm pipeline/pl_scd_curated_finish_user',\n",
      " 'rm pipeline/pl_tranform_landing_curated_masterproduct',\n",
      " 'rm pipeline/pl_scd_curated_finish_departmenthierarchy',\n",
      " 'rm pipeline/pl_copy_curated_finish_user_lookups',\n",
      " 'rm pipeline/pl_tranform_landing_curated_departmenthierarchy',\n",
      " 'rm pipeline/pl_landing_finish_individual_lookups']\n"
     ]
    }
   ],
   "source": [
    "import pprint; pprint.pprint([f\"rm pipeline/{i}\" for i in filter(lambda x: x.startswith(\"pl_\") , delete)])"
   ]
  },
  {
   "cell_type": "code",
   "execution_count": 32,
   "metadata": {},
   "outputs": [],
   "source": [
    "new_pipelines = [\n",
    "    \"dim_user_master\",\n",
    "    \"common_archive_files\"\n",
    "]\n",
    "copy = []\n",
    "for p in new_pipelines:\n",
    "    for s in bfs.bfs_successors(G, p):\n",
    "        copy.extend(nx.utils.flatten(s))"
   ]
  },
  {
   "cell_type": "code",
   "execution_count": 33,
   "metadata": {},
   "outputs": [
    {
     "data": {
      "text/plain": [
       "{'AzureDataLakeStorage_AutoResolve',\n",
       " 'AzureKeyVault_01',\n",
       " 'CIADatalake_Synapse_Analytics',\n",
       " 'ciadatalake-dev-eastus-ir-01',\n",
       " 'ciadatalake-eastus-autoresolve-ir-01',\n",
       " 'ciadw_sql_db',\n",
       " 'common_archive_files',\n",
       " 'common_load_transform',\n",
       " 'dim_user_extract',\n",
       " 'dim_user_master',\n",
       " 'ds_ciadw_sql_query',\n",
       " 'ds_issql_sql_query',\n",
       " 'ds_parquet_file',\n",
       " 'ds_synapse_table',\n",
       " 'issql_sql_db'}"
      ]
     },
     "execution_count": 33,
     "metadata": {},
     "output_type": "execute_result"
    }
   ],
   "source": [
    "set(copy)"
   ]
  },
  {
   "cell_type": "code",
   "execution_count": 19,
   "metadata": {},
   "outputs": [
    {
     "data": {
      "text/plain": [
       "{'AzureDataLakeStorage_SelfHosted',\n",
       " 'df_copy_curated_final_lookups',\n",
       " 'df_csv_to_parquet',\n",
       " 'df_final_csv_parquet',\n",
       " 'df_history_load_transform',\n",
       " 'df_history_load_transform_businessarea',\n",
       " 'df_history_load_transform_date',\n",
       " 'df_history_load_transform_dimdepartmenthierarchy',\n",
       " 'df_history_load_transform_individual',\n",
       " 'df_history_load_transform_location',\n",
       " 'df_history_load_transform_lookup_individual',\n",
       " 'df_history_load_transform_lookup_masterproduct',\n",
       " 'df_history_load_transform_lookup_user',\n",
       " 'df_history_load_transform_masterproduct',\n",
       " 'df_history_load_transform_user',\n",
       " 'df_history_lookups_csv_parquet',\n",
       " 'df_processing_final_data_copy',\n",
       " 'df_scd1_departmenthierarchy',\n",
       " 'df_scd1_individual',\n",
       " 'df_scd1_individual_lookups',\n",
       " 'df_scd1_location',\n",
       " 'df_scd1_location_lookups',\n",
       " 'df_scd1_masterproduct',\n",
       " 'df_scd1_user',\n",
       " 'df_scd2_final_department_hierarchy',\n",
       " 'df_scd2_final_user',\n",
       " 'df_scd2_individual',\n",
       " 'df_scd2_location',\n",
       " 'df_scd2_masterproduct',\n",
       " 'df_transform_curated_departmenthierarchy',\n",
       " 'df_transform_curated_user',\n",
       " 'df_transform_individual',\n",
       " 'df_transform_location',\n",
       " 'df_transform_masterproduct',\n",
       " 'ds_ciadatalake_delimited_file',\n",
       " 'ds_ciadatalake_delimited_file_directory',\n",
       " 'ds_ciadatalake_parquet_directory',\n",
       " 'ds_issql_sql_query',\n",
       " 'ds_lookup_auditlog',\n",
       " 'ds_lookup_lastcompletetmstp',\n",
       " 'ds_lookup_prctmstp',\n",
       " 'ds_parquet_directory',\n",
       " 'issql_sql_db',\n",
       " 'master_dim_department_hierarchy',\n",
       " 'master_dim_individual',\n",
       " 'master_dim_location',\n",
       " 'master_dim_masterproduct',\n",
       " 'master_dim_user',\n",
       " 'master_history_individual',\n",
       " 'master_history_location',\n",
       " 'mstr_mstr_dim_fact_load',\n",
       " 'mstr_mstr_history_load',\n",
       " 'pl_copy_curated_finish_depthierarchy_lookups',\n",
       " 'pl_copy_curated_finish_user_lookups',\n",
       " 'pl_copy_landing_finish_individual_lookups',\n",
       " 'pl_copy_landing_finish_location_lookups',\n",
       " 'pl_extract_ciadw_landing_location',\n",
       " 'pl_extract_ciadw_landing_location_lookups',\n",
       " 'pl_extract_ciadw_landing_masterproduct',\n",
       " 'pl_extract_issql_landing_alert_test',\n",
       " 'pl_extract_issql_landing_departmenthierarchy',\n",
       " 'pl_extract_issql_landing_individual',\n",
       " 'pl_extract_issql_landing_individual_lookups',\n",
       " 'pl_extract_issql_landing_user',\n",
       " 'pl_history_load_businessarea',\n",
       " 'pl_history_load_date',\n",
       " 'pl_history_load_dimdepartmenthierarchy',\n",
       " 'pl_history_load_individual',\n",
       " 'pl_history_load_location',\n",
       " 'pl_history_load_masterproduct',\n",
       " 'pl_history_load_user',\n",
       " 'pl_landing_finish_individual_lookups',\n",
       " 'pl_landing_finish_location_lookups',\n",
       " 'pl_scd_curated_finish_departmenthierarchy',\n",
       " 'pl_scd_curated_finish_individual',\n",
       " 'pl_scd_curated_finish_location',\n",
       " 'pl_scd_curated_finish_masterproduct',\n",
       " 'pl_scd_curated_finish_user',\n",
       " 'pl_tranform_landing_curated_departmenthierarchy',\n",
       " 'pl_tranform_landing_curated_individual',\n",
       " 'pl_tranform_landing_curated_location',\n",
       " 'pl_tranform_landing_curated_masterproduct',\n",
       " 'pl_tranform_landing_curated_user',\n",
       " 'template_master_dim_tablename',\n",
       " 'template_mstr_mstr_dim_fact_load_alltables',\n",
       " 'template_pl_extract_ciadw_landing_tablename',\n",
       " 'template_pl_history_load_tablename',\n",
       " 'template_pl_scd_curated_finish_tablename',\n",
       " 'template_pl_tranform_landing_curated_tablename'}"
      ]
     },
     "execution_count": 19,
     "metadata": {},
     "output_type": "execute_result"
    }
   ],
   "source": [
    "set(delete)"
   ]
  },
  {
   "cell_type": "code",
   "execution_count": null,
   "metadata": {},
   "outputs": [],
   "source": []
  }
 ],
 "metadata": {
  "kernelspec": {
   "display_name": "Python 3",
   "language": "python",
   "name": "python3"
  },
  "language_info": {
   "codemirror_mode": {
    "name": "ipython",
    "version": 3
   },
   "file_extension": ".py",
   "mimetype": "text/x-python",
   "name": "python",
   "nbconvert_exporter": "python",
   "pygments_lexer": "ipython3",
   "version": "3.6.9"
  }
 },
 "nbformat": 4,
 "nbformat_minor": 4
}
